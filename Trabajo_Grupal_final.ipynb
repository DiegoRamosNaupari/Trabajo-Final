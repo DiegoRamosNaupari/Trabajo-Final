{
 "cells": [
  {
   "cell_type": "markdown",
   "id": "71310286",
   "metadata": {},
   "source": [
    "<h1><center>web Scraping UniProt</center></h1>"
   ]
  },
  {
   "cell_type": "markdown",
   "id": "6a7f8c7e",
   "metadata": {},
   "source": [
    "<center><img src='data:image/png;base64,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'></img></center>"
   ]
  },
  {
   "cell_type": "code",
   "execution_count": 2,
   "id": "684e33f5",
   "metadata": {},
   "outputs": [],
   "source": [
    "#Importamos las librerias a usar para hacer el web scraping\n",
    "from bs4 import BeautifulSoup   # importa la libreria Beautifulsoup\n",
    "import requests                 # importa la libreria requests\n"
   ]
  },
  {
   "cell_type": "markdown",
   "id": "e0a3ec29",
   "metadata": {},
   "source": [
    "### Librery openpyxl\n",
    "\n",
    "* Es una biblioteca de python que sirve para leer y escribir archivos xlxs y xlsxm de excel.\n",
    "* Nacio de la falta de una biblioteca existente para leer.\n",
    "*[Librery Openpyxl](https://pypi.org/project/openpyxl/) "
   ]
  },
  {
   "cell_type": "code",
   "execution_count": 3,
   "id": "48e3b392",
   "metadata": {},
   "outputs": [],
   "source": [
    "import openpyxl                 # importa la libreria openpyxl"
   ]
  },
  {
   "cell_type": "markdown",
   "id": "407fbbaa",
   "metadata": {},
   "source": [
    "* Ahora creamos un objeto que me permita direccionar a mi carpeta de trabajo y el excel Tablasvacia.xlsx\n",
    "* Leeremos la fila 1 y primera columna de los genes para agregarlo en una lista y nuestra lectura sea mas comoda.\n",
    "\n",
    "**NOTA:**\n",
    "\n",
    "**La dirección de la carpeta de trabajo variara depende del compañero ya que cada uno hemos ubicado su ruta en su PC**\n"
   ]
  },
  {
   "cell_type": "code",
   "execution_count": 4,
   "id": "8742e88b",
   "metadata": {},
   "outputs": [
    {
     "ename": "FileNotFoundError",
     "evalue": "[Errno 2] No such file or directory: 'C:/Users/JUAN CARLOS DIAZ/Desktop/cuadernos/Tablasvacia.xlsx'",
     "output_type": "error",
     "traceback": [
      "\u001b[1;31m---------------------------------------------------------------------------\u001b[0m",
      "\u001b[1;31mFileNotFoundError\u001b[0m                         Traceback (most recent call last)",
      "\u001b[1;32m<ipython-input-4-d54bc1f4e6c9>\u001b[0m in \u001b[0;36m<module>\u001b[1;34m\u001b[0m\n\u001b[1;32m----> 1\u001b[1;33m \u001b[0marchivo_excel_vacio\u001b[0m \u001b[1;33m=\u001b[0m \u001b[0mpd\u001b[0m\u001b[1;33m.\u001b[0m\u001b[0mread_excel\u001b[0m\u001b[1;33m(\u001b[0m\u001b[1;34m\"C:/Users/JUAN CARLOS DIAZ/Desktop/cuadernos/Tablasvacia.xlsx\"\u001b[0m\u001b[1;33m,\u001b[0m\u001b[0mheader\u001b[0m\u001b[1;33m=\u001b[0m\u001b[1;36m1\u001b[0m\u001b[1;33m,\u001b[0m\u001b[0mindex_col\u001b[0m\u001b[1;33m=\u001b[0m\u001b[1;36m0\u001b[0m\u001b[1;33m)\u001b[0m  \u001b[1;31m# leer excel de cabecera fila 1 y indice columna 0\u001b[0m\u001b[1;33m\u001b[0m\u001b[1;33m\u001b[0m\u001b[0m\n\u001b[0m\u001b[0;32m      2\u001b[0m \u001b[0mlista_genes_abreviados\u001b[0m\u001b[1;33m=\u001b[0m\u001b[0mlist\u001b[0m\u001b[1;33m(\u001b[0m\u001b[0marchivo_excel_vacio\u001b[0m\u001b[1;33m[\u001b[0m\u001b[1;34m\"GEN ABREV\"\u001b[0m\u001b[1;33m]\u001b[0m\u001b[1;33m)\u001b[0m  \u001b[1;31m# importamos la columna que tiene los genes abreviados y los introducimos a una lista\u001b[0m\u001b[1;33m\u001b[0m\u001b[1;33m\u001b[0m\u001b[0m\n",
      "\u001b[1;32mC:\\ProgramData\\Anaconda3\\lib\\site-packages\\pandas\\util\\_decorators.py\u001b[0m in \u001b[0;36mwrapper\u001b[1;34m(*args, **kwargs)\u001b[0m\n\u001b[0;32m    297\u001b[0m                 )\n\u001b[0;32m    298\u001b[0m                 \u001b[0mwarnings\u001b[0m\u001b[1;33m.\u001b[0m\u001b[0mwarn\u001b[0m\u001b[1;33m(\u001b[0m\u001b[0mmsg\u001b[0m\u001b[1;33m,\u001b[0m \u001b[0mFutureWarning\u001b[0m\u001b[1;33m,\u001b[0m \u001b[0mstacklevel\u001b[0m\u001b[1;33m=\u001b[0m\u001b[0mstacklevel\u001b[0m\u001b[1;33m)\u001b[0m\u001b[1;33m\u001b[0m\u001b[1;33m\u001b[0m\u001b[0m\n\u001b[1;32m--> 299\u001b[1;33m             \u001b[1;32mreturn\u001b[0m \u001b[0mfunc\u001b[0m\u001b[1;33m(\u001b[0m\u001b[1;33m*\u001b[0m\u001b[0margs\u001b[0m\u001b[1;33m,\u001b[0m \u001b[1;33m**\u001b[0m\u001b[0mkwargs\u001b[0m\u001b[1;33m)\u001b[0m\u001b[1;33m\u001b[0m\u001b[1;33m\u001b[0m\u001b[0m\n\u001b[0m\u001b[0;32m    300\u001b[0m \u001b[1;33m\u001b[0m\u001b[0m\n\u001b[0;32m    301\u001b[0m         \u001b[1;32mreturn\u001b[0m \u001b[0mwrapper\u001b[0m\u001b[1;33m\u001b[0m\u001b[1;33m\u001b[0m\u001b[0m\n",
      "\u001b[1;32mC:\\ProgramData\\Anaconda3\\lib\\site-packages\\pandas\\io\\excel\\_base.py\u001b[0m in \u001b[0;36mread_excel\u001b[1;34m(io, sheet_name, header, names, index_col, usecols, squeeze, dtype, engine, converters, true_values, false_values, skiprows, nrows, na_values, keep_default_na, na_filter, verbose, parse_dates, date_parser, thousands, comment, skipfooter, convert_float, mangle_dupe_cols, storage_options)\u001b[0m\n\u001b[0;32m    334\u001b[0m     \u001b[1;32mif\u001b[0m \u001b[1;32mnot\u001b[0m \u001b[0misinstance\u001b[0m\u001b[1;33m(\u001b[0m\u001b[0mio\u001b[0m\u001b[1;33m,\u001b[0m \u001b[0mExcelFile\u001b[0m\u001b[1;33m)\u001b[0m\u001b[1;33m:\u001b[0m\u001b[1;33m\u001b[0m\u001b[1;33m\u001b[0m\u001b[0m\n\u001b[0;32m    335\u001b[0m         \u001b[0mshould_close\u001b[0m \u001b[1;33m=\u001b[0m \u001b[1;32mTrue\u001b[0m\u001b[1;33m\u001b[0m\u001b[1;33m\u001b[0m\u001b[0m\n\u001b[1;32m--> 336\u001b[1;33m         \u001b[0mio\u001b[0m \u001b[1;33m=\u001b[0m \u001b[0mExcelFile\u001b[0m\u001b[1;33m(\u001b[0m\u001b[0mio\u001b[0m\u001b[1;33m,\u001b[0m \u001b[0mstorage_options\u001b[0m\u001b[1;33m=\u001b[0m\u001b[0mstorage_options\u001b[0m\u001b[1;33m,\u001b[0m \u001b[0mengine\u001b[0m\u001b[1;33m=\u001b[0m\u001b[0mengine\u001b[0m\u001b[1;33m)\u001b[0m\u001b[1;33m\u001b[0m\u001b[1;33m\u001b[0m\u001b[0m\n\u001b[0m\u001b[0;32m    337\u001b[0m     \u001b[1;32melif\u001b[0m \u001b[0mengine\u001b[0m \u001b[1;32mand\u001b[0m \u001b[0mengine\u001b[0m \u001b[1;33m!=\u001b[0m \u001b[0mio\u001b[0m\u001b[1;33m.\u001b[0m\u001b[0mengine\u001b[0m\u001b[1;33m:\u001b[0m\u001b[1;33m\u001b[0m\u001b[1;33m\u001b[0m\u001b[0m\n\u001b[0;32m    338\u001b[0m         raise ValueError(\n",
      "\u001b[1;32mC:\\ProgramData\\Anaconda3\\lib\\site-packages\\pandas\\io\\excel\\_base.py\u001b[0m in \u001b[0;36m__init__\u001b[1;34m(self, path_or_buffer, engine, storage_options)\u001b[0m\n\u001b[0;32m   1069\u001b[0m                 \u001b[0mext\u001b[0m \u001b[1;33m=\u001b[0m \u001b[1;34m\"xls\"\u001b[0m\u001b[1;33m\u001b[0m\u001b[1;33m\u001b[0m\u001b[0m\n\u001b[0;32m   1070\u001b[0m             \u001b[1;32melse\u001b[0m\u001b[1;33m:\u001b[0m\u001b[1;33m\u001b[0m\u001b[1;33m\u001b[0m\u001b[0m\n\u001b[1;32m-> 1071\u001b[1;33m                 ext = inspect_excel_format(\n\u001b[0m\u001b[0;32m   1072\u001b[0m                     \u001b[0mcontent\u001b[0m\u001b[1;33m=\u001b[0m\u001b[0mpath_or_buffer\u001b[0m\u001b[1;33m,\u001b[0m \u001b[0mstorage_options\u001b[0m\u001b[1;33m=\u001b[0m\u001b[0mstorage_options\u001b[0m\u001b[1;33m\u001b[0m\u001b[1;33m\u001b[0m\u001b[0m\n\u001b[0;32m   1073\u001b[0m                 )\n",
      "\u001b[1;32mC:\\ProgramData\\Anaconda3\\lib\\site-packages\\pandas\\io\\excel\\_base.py\u001b[0m in \u001b[0;36minspect_excel_format\u001b[1;34m(path, content, storage_options)\u001b[0m\n\u001b[0;32m    947\u001b[0m     \u001b[1;32massert\u001b[0m \u001b[0mcontent_or_path\u001b[0m \u001b[1;32mis\u001b[0m \u001b[1;32mnot\u001b[0m \u001b[1;32mNone\u001b[0m\u001b[1;33m\u001b[0m\u001b[1;33m\u001b[0m\u001b[0m\n\u001b[0;32m    948\u001b[0m \u001b[1;33m\u001b[0m\u001b[0m\n\u001b[1;32m--> 949\u001b[1;33m     with get_handle(\n\u001b[0m\u001b[0;32m    950\u001b[0m         \u001b[0mcontent_or_path\u001b[0m\u001b[1;33m,\u001b[0m \u001b[1;34m\"rb\"\u001b[0m\u001b[1;33m,\u001b[0m \u001b[0mstorage_options\u001b[0m\u001b[1;33m=\u001b[0m\u001b[0mstorage_options\u001b[0m\u001b[1;33m,\u001b[0m \u001b[0mis_text\u001b[0m\u001b[1;33m=\u001b[0m\u001b[1;32mFalse\u001b[0m\u001b[1;33m\u001b[0m\u001b[1;33m\u001b[0m\u001b[0m\n\u001b[0;32m    951\u001b[0m     ) as handle:\n",
      "\u001b[1;32mC:\\ProgramData\\Anaconda3\\lib\\site-packages\\pandas\\io\\common.py\u001b[0m in \u001b[0;36mget_handle\u001b[1;34m(path_or_buf, mode, encoding, compression, memory_map, is_text, errors, storage_options)\u001b[0m\n\u001b[0;32m    649\u001b[0m         \u001b[1;32melse\u001b[0m\u001b[1;33m:\u001b[0m\u001b[1;33m\u001b[0m\u001b[1;33m\u001b[0m\u001b[0m\n\u001b[0;32m    650\u001b[0m             \u001b[1;31m# Binary mode\u001b[0m\u001b[1;33m\u001b[0m\u001b[1;33m\u001b[0m\u001b[1;33m\u001b[0m\u001b[0m\n\u001b[1;32m--> 651\u001b[1;33m             \u001b[0mhandle\u001b[0m \u001b[1;33m=\u001b[0m \u001b[0mopen\u001b[0m\u001b[1;33m(\u001b[0m\u001b[0mhandle\u001b[0m\u001b[1;33m,\u001b[0m \u001b[0mioargs\u001b[0m\u001b[1;33m.\u001b[0m\u001b[0mmode\u001b[0m\u001b[1;33m)\u001b[0m\u001b[1;33m\u001b[0m\u001b[1;33m\u001b[0m\u001b[0m\n\u001b[0m\u001b[0;32m    652\u001b[0m         \u001b[0mhandles\u001b[0m\u001b[1;33m.\u001b[0m\u001b[0mappend\u001b[0m\u001b[1;33m(\u001b[0m\u001b[0mhandle\u001b[0m\u001b[1;33m)\u001b[0m\u001b[1;33m\u001b[0m\u001b[1;33m\u001b[0m\u001b[0m\n\u001b[0;32m    653\u001b[0m \u001b[1;33m\u001b[0m\u001b[0m\n",
      "\u001b[1;31mFileNotFoundError\u001b[0m: [Errno 2] No such file or directory: 'C:/Users/JUAN CARLOS DIAZ/Desktop/cuadernos/Tablasvacia.xlsx'"
     ]
    }
   ],
   "source": [
    "archivo_excel_vacio = pd.read_excel(\"C:/Users/JUAN CARLOS DIAZ/Desktop/cuadernos/Tablasvacia.xlsx\",header=1,index_col=0)  # leer excel de cabecera fila 1 y indice columna 0                                                                         \n",
    "lista_genes_abreviados=list(archivo_excel_vacio[\"GEN ABREV\"])  # importamos la columna que tiene los genes abreviados y los introducimos a una lista"
   ]
  },
  {
   "cell_type": "code",
   "execution_count": null,
   "id": "7f342469",
   "metadata": {},
   "outputs": [],
   "source": [
    "import pandas as pd"
   ]
  },
  {
   "cell_type": "markdown",
   "id": "e1eb065d",
   "metadata": {},
   "source": [
    "importamos la libreria $pandas$ la cual es de mucha utilidad al momento de realizar $WebScraping$  o al menos en nuestro caso ya que al final tenemos que presentarlo como un cuadro de $excell$ y para ello debemos transformalo previamente en un ***data frame*** , lo cual sera posible gracias a la funcion de pandas y para que al moment de llamarlo no sea tan complicado lo llamares como **pd** \n"
   ]
  },
  {
   "cell_type": "code",
   "execution_count": null,
   "id": "ce5d7a4e",
   "metadata": {},
   "outputs": [],
   "source": []
  }
 ],
 "metadata": {
  "kernelspec": {
   "display_name": "Python 3",
   "language": "python",
   "name": "python3"
  },
  "language_info": {
   "codemirror_mode": {
    "name": "ipython",
    "version": 3
   },
   "file_extension": ".py",
   "mimetype": "text/x-python",
   "name": "python",
   "nbconvert_exporter": "python",
   "pygments_lexer": "ipython3",
   "version": "3.8.8"
  }
 },
 "nbformat": 4,
 "nbformat_minor": 5
}
